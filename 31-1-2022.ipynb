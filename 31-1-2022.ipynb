{
 "cells": [
  {
   "cell_type": "markdown",
   "id": "d8a01094",
   "metadata": {},
   "source": [
    "### Commenets  \n",
    "- User readable information or data  \n",
    "- comment doesnot exicute  \n",
    "- it is mentioned in '#'  \n",
    "- for multiple line comment mention in the formation of ''' '''  "
   ]
  },
  {
   "cell_type": "code",
   "execution_count": 1,
   "id": "49eedfbe",
   "metadata": {},
   "outputs": [
    {
     "name": "stdout",
     "output_type": "stream",
     "text": [
      "HELLO SANTOSH WELOCME TO PYTHON LAB\n"
     ]
    }
   ],
   "source": [
    "print(\"HELLO SANTOSH WELOCME TO PYTHON LAB\")"
   ]
  },
  {
   "cell_type": "markdown",
   "id": "04a9bb36",
   "metadata": {},
   "source": [
    "# santosh  \n",
    "## santosh  \n",
    "### santosh  \n",
    "#### santosh  \n",
    "##### santosh  \n",
    "###### santosh  "
   ]
  },
  {
   "cell_type": "markdown",
   "id": "e334affa",
   "metadata": {},
   "source": [
    "### variable  \n",
    "- which is used to store the data  \n",
    "- variable starts with characters ,underscore  \n",
    "- varaible could not start with numbers ,special symbols, keywords  "
   ]
  },
  {
   "cell_type": "code",
   "execution_count": 2,
   "id": "9d1d0806",
   "metadata": {},
   "outputs": [
    {
     "data": {
      "text/plain": [
       "510"
      ]
     },
     "execution_count": 2,
     "metadata": {},
     "output_type": "execute_result"
    }
   ],
   "source": [
    "python=510\n",
    "python"
   ]
  },
  {
   "cell_type": "code",
   "execution_count": 3,
   "id": "a017dc98",
   "metadata": {},
   "outputs": [
    {
     "ename": "NameError",
     "evalue": "name 'pyhton' is not defined",
     "output_type": "error",
     "traceback": [
      "\u001b[1;31m---------------------------------------------------------------------------\u001b[0m",
      "\u001b[1;31mNameError\u001b[0m                                 Traceback (most recent call last)",
      "\u001b[1;32m~\\AppData\\Local\\Temp/ipykernel_4504/542909106.py\u001b[0m in \u001b[0;36m<module>\u001b[1;34m\u001b[0m\n\u001b[0;32m      1\u001b[0m \u001b[0mpython\u001b[0m \u001b[1;33m=\u001b[0m\u001b[1;36m510\u001b[0m\u001b[1;33m\u001b[0m\u001b[1;33m\u001b[0m\u001b[0m\n\u001b[1;32m----> 2\u001b[1;33m \u001b[0mpyhton\u001b[0m\u001b[1;33m\u001b[0m\u001b[1;33m\u001b[0m\u001b[0m\n\u001b[0m",
      "\u001b[1;31mNameError\u001b[0m: name 'pyhton' is not defined"
     ]
    }
   ],
   "source": [
    "python =510\n",
    "pyhton"
   ]
  },
  {
   "cell_type": "markdown",
   "id": "5324a559",
   "metadata": {},
   "source": [
    "### DATA TYPES  \n",
    "- int(all integer values)  \n",
    "- float(integer with decimal point)  \n",
    "- str(combination of characters or group of characters)  \n",
    "- complex(number with real and imaginary part)\n",
    "- boolean(True,False)  "
   ]
  },
  {
   "cell_type": "code",
   "execution_count": 4,
   "id": "b04c2e79",
   "metadata": {},
   "outputs": [],
   "source": [
    "a=510\n",
    "b=15.33\n",
    "c=\"apssdc\"\n",
    "d='p'\n",
    "e=1+2j\n",
    "f='1+2j'\n",
    "g=True"
   ]
  },
  {
   "cell_type": "code",
   "execution_count": 5,
   "id": "778fc512",
   "metadata": {},
   "outputs": [
    {
     "name": "stdout",
     "output_type": "stream",
     "text": [
      "<class 'int'>\n",
      "<class 'float'>\n",
      "<class 'str'>\n",
      "<class 'str'>\n",
      "<class 'complex'>\n",
      "<class 'str'>\n",
      "<class 'bool'>\n"
     ]
    }
   ],
   "source": [
    "print(type(a))\n",
    "print(type(b))\n",
    "print(type(c))\n",
    "print(type(d))\n",
    "print(type(e))\n",
    "print(type(f))\n",
    "print(type(g))"
   ]
  },
  {
   "cell_type": "markdown",
   "id": "2fcbf33a",
   "metadata": {},
   "source": [
    "### Type Casting  \n",
    "- which converts the data from one datatype to another datatype  "
   ]
  },
  {
   "cell_type": "code",
   "execution_count": 6,
   "id": "91387c54",
   "metadata": {},
   "outputs": [
    {
     "ename": "ValueError",
     "evalue": "invalid literal for int() with base 10: 'santosh'",
     "output_type": "error",
     "traceback": [
      "\u001b[1;31m---------------------------------------------------------------------------\u001b[0m",
      "\u001b[1;31mValueError\u001b[0m                                Traceback (most recent call last)",
      "\u001b[1;32m~\\AppData\\Local\\Temp/ipykernel_4504/1508284646.py\u001b[0m in \u001b[0;36m<module>\u001b[1;34m\u001b[0m\n\u001b[0;32m      1\u001b[0m \u001b[0mabc\u001b[0m\u001b[1;33m=\u001b[0m\u001b[1;34m\"santosh\"\u001b[0m\u001b[1;33m\u001b[0m\u001b[1;33m\u001b[0m\u001b[0m\n\u001b[1;32m----> 2\u001b[1;33m \u001b[0ms\u001b[0m\u001b[1;33m=\u001b[0m\u001b[0mint\u001b[0m\u001b[1;33m(\u001b[0m\u001b[0mabc\u001b[0m\u001b[1;33m)\u001b[0m\u001b[1;33m\u001b[0m\u001b[1;33m\u001b[0m\u001b[0m\n\u001b[0m\u001b[0;32m      3\u001b[0m \u001b[0mprint\u001b[0m\u001b[1;33m(\u001b[0m\u001b[0mtype\u001b[0m\u001b[1;33m(\u001b[0m\u001b[0ms\u001b[0m\u001b[1;33m)\u001b[0m\u001b[1;33m)\u001b[0m\u001b[1;33m\u001b[0m\u001b[1;33m\u001b[0m\u001b[0m\n\u001b[0;32m      4\u001b[0m \u001b[0mprint\u001b[0m\u001b[1;33m(\u001b[0m\u001b[0ms\u001b[0m\u001b[1;33m)\u001b[0m\u001b[1;33m\u001b[0m\u001b[1;33m\u001b[0m\u001b[0m\n",
      "\u001b[1;31mValueError\u001b[0m: invalid literal for int() with base 10: 'santosh'"
     ]
    }
   ],
   "source": [
    "abc=\"santosh\"\n",
    "s=int(abc)\n",
    "print(type(s))\n",
    "print(s)"
   ]
  },
  {
   "cell_type": "code",
   "execution_count": 7,
   "id": "ed01da32",
   "metadata": {},
   "outputs": [
    {
     "name": "stdout",
     "output_type": "stream",
     "text": [
      "<class 'str'>\n",
      "santosh\n"
     ]
    }
   ],
   "source": [
    "abc=\"santosh\"\n",
    "s=str(abc)\n",
    "print(type(s))\n",
    "print(s)"
   ]
  },
  {
   "cell_type": "code",
   "execution_count": 8,
   "id": "d60756b1",
   "metadata": {},
   "outputs": [
    {
     "name": "stdout",
     "output_type": "stream",
     "text": [
      "<class 'str'>\n"
     ]
    }
   ],
   "source": [
    "abc=\"vasavi college\"\n",
    "print(type(abc))"
   ]
  },
  {
   "cell_type": "code",
   "execution_count": 9,
   "id": "cf8201d1",
   "metadata": {},
   "outputs": [
    {
     "ename": "ValueError",
     "evalue": "invalid literal for int() with base 10: 'vasavi college'",
     "output_type": "error",
     "traceback": [
      "\u001b[1;31m---------------------------------------------------------------------------\u001b[0m",
      "\u001b[1;31mValueError\u001b[0m                                Traceback (most recent call last)",
      "\u001b[1;32m~\\AppData\\Local\\Temp/ipykernel_4504/3789439297.py\u001b[0m in \u001b[0;36m<module>\u001b[1;34m\u001b[0m\n\u001b[1;32m----> 1\u001b[1;33m \u001b[0mz\u001b[0m\u001b[1;33m=\u001b[0m\u001b[0mint\u001b[0m\u001b[1;33m(\u001b[0m\u001b[0mabc\u001b[0m\u001b[1;33m)\u001b[0m\u001b[1;33m\u001b[0m\u001b[1;33m\u001b[0m\u001b[0m\n\u001b[0m\u001b[0;32m      2\u001b[0m \u001b[0mprint\u001b[0m\u001b[1;33m(\u001b[0m\u001b[0mtype\u001b[0m\u001b[1;33m(\u001b[0m\u001b[0mz\u001b[0m\u001b[1;33m)\u001b[0m\u001b[1;33m)\u001b[0m\u001b[1;33m\u001b[0m\u001b[1;33m\u001b[0m\u001b[0m\n\u001b[0;32m      3\u001b[0m \u001b[0mprint\u001b[0m\u001b[1;33m(\u001b[0m\u001b[0mz\u001b[0m\u001b[1;33m)\u001b[0m\u001b[1;33m\u001b[0m\u001b[1;33m\u001b[0m\u001b[0m\n",
      "\u001b[1;31mValueError\u001b[0m: invalid literal for int() with base 10: 'vasavi college'"
     ]
    }
   ],
   "source": [
    "z=int(abc)\n",
    "print(type(z))\n",
    "print(z)"
   ]
  },
  {
   "cell_type": "code",
   "execution_count": 10,
   "id": "23dcd2a0",
   "metadata": {},
   "outputs": [
    {
     "name": "stdout",
     "output_type": "stream",
     "text": [
      "<class 'int'>\n",
      "123456\n"
     ]
    }
   ],
   "source": [
    "abc=\"123456\"\n",
    "z=int(abc)\n",
    "print(type(z))\n",
    "print(z)"
   ]
  },
  {
   "cell_type": "code",
   "execution_count": 11,
   "id": "4ac29583",
   "metadata": {},
   "outputs": [
    {
     "name": "stdout",
     "output_type": "stream",
     "text": [
      "<class 'float'>\n",
      "123456.0\n"
     ]
    }
   ],
   "source": [
    "z=float(abc)\n",
    "print(type(z))\n",
    "print(z)"
   ]
  },
  {
   "cell_type": "markdown",
   "id": "58561278",
   "metadata": {},
   "source": [
    "1.I am from apssdc first line  \n",
    "2.I am santosh second line  \n",
    "3.I am teaching python programming third line  "
   ]
  },
  {
   "cell_type": "markdown",
   "id": "0a4e9688",
   "metadata": {},
   "source": [
    "### Under List\n",
    "+ one  \n",
    "- two  \n",
    "+ three  \n",
    "* four  \n",
    "    + five  \n",
    "    - six  \n",
    "    * seven  \n",
    "        + eight  \n",
    "        - nine  \n",
    "        * zero  "
   ]
  },
  {
   "cell_type": "markdown",
   "id": "2c8bb512",
   "metadata": {},
   "source": [
    "### Order List and Sub List\n",
    "1. one  \n",
    "2. two  \n",
    "3. three  \n",
    "4. four  \n",
    "    5. five  \n",
    "    6. six  \n",
    "    7. seven  \n",
    "        8. eight  \n",
    "        9. nine  \n",
    "        10. ten  "
   ]
  },
  {
   "cell_type": "code",
   "execution_count": null,
   "id": "149c58c4",
   "metadata": {},
   "outputs": [],
   "source": []
  }
 ],
 "metadata": {
  "kernelspec": {
   "display_name": "Python 3 (ipykernel)",
   "language": "python",
   "name": "python3"
  },
  "language_info": {
   "codemirror_mode": {
    "name": "ipython",
    "version": 3
   },
   "file_extension": ".py",
   "mimetype": "text/x-python",
   "name": "python",
   "nbconvert_exporter": "python",
   "pygments_lexer": "ipython3",
   "version": "3.9.7"
  }
 },
 "nbformat": 4,
 "nbformat_minor": 5
}
